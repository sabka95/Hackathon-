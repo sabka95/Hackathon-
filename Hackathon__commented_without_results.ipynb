{
  "cells": [
    {
      "cell_type": "code",
      "execution_count": null,
      "metadata": {
        "id": "RfxOslaF-PXH"
      },
      "outputs": [],
      "source": [
        "from google.colab import drive\n",
        "drive.mount('/content/drive')"
      ]
    },
    {
      "cell_type": "code",
      "execution_count": null,
      "metadata": {
        "id": "g9uq9fHPiVMW"
      },
      "outputs": [],
      "source": [
        "import pandas as pd\n",
        "import numpy as np\n",
        "import matplotlib.pyplot as plt\n",
        "import seaborn as sns\n",
        "import scipy.stats as stats"
      ]
    },
    {
      "cell_type": "markdown",
      "metadata": {
        "id": "UuLkLPXOnOAq"
      },
      "source": [
        "## **Étape 1 : Exploration et Premier Diagnostic** **texte en gras**"
      ]
    },
    {
      "cell_type": "markdown",
      "metadata": {
        "id": "79cfb923"
      },
      "source": [
        "### 📊 Load Dataset\n",
        "We read the CSV files that contains information about movies and tv shows on streaming platforms."
      ]
    },
    {
      "cell_type": "code",
      "execution_count": null,
      "metadata": {
        "id": "N7SNRHhMibUi"
      },
      "outputs": [],
      "source": [
        "file1 = pd.read_csv(\"/content/drive/MyDrive/GENAI/Week3/Hackathon/MoviesOnStreamingPlatforms.csv\")\n",
        "df1 = pd.DataFrame(file1)\n",
        "df1.head()"
      ]
    },
    {
      "cell_type": "code",
      "execution_count": null,
      "metadata": {
        "id": "Oa-xbR57yCy2"
      },
      "outputs": [],
      "source": [
        "df1[\"Type\"] = \"Movies\""
      ]
    },
    {
      "cell_type": "code",
      "execution_count": null,
      "metadata": {
        "id": "Dt1uWcWjypo6"
      },
      "outputs": [],
      "source": [
        "df1.drop_duplicates(inplace=True)"
      ]
    },
    {
      "cell_type": "code",
      "execution_count": null,
      "metadata": {
        "id": "TUlWxLFIxbY3"
      },
      "outputs": [],
      "source": [
        "file2 = pd.read_csv(\"/content/drive/MyDrive/GENAI/Week3/Hackathon/tv_shows.csv\")\n",
        "df2 = pd.DataFrame(file2)\n",
        "df2.head()"
      ]
    },
    {
      "cell_type": "code",
      "execution_count": null,
      "metadata": {
        "id": "yn0yaxQqyIqX"
      },
      "outputs": [],
      "source": [
        "df2[\"Type\"] = \"TV Shows\""
      ]
    },
    {
      "cell_type": "code",
      "execution_count": null,
      "metadata": {
        "id": "KR7MZtoTx0PZ"
      },
      "outputs": [],
      "source": [
        "df2.drop(columns=['IMDb'], inplace=True)"
      ]
    },
    {
      "cell_type": "code",
      "execution_count": null,
      "metadata": {
        "id": "qqvMazhuyv-5"
      },
      "outputs": [],
      "source": [
        "df2.drop_duplicates(inplace=True)"
      ]
    },
    {
      "cell_type": "markdown",
      "source": [
        "We added a column to each DataFrame to specify whether the content is a movie or a series, and then concatenated the two DataFrames."
      ],
      "metadata": {
        "id": "tG0eUVniKEEk"
      }
    },
    {
      "cell_type": "code",
      "execution_count": null,
      "metadata": {
        "id": "KcpD6esXx78E"
      },
      "outputs": [],
      "source": [
        "df3 = pd.concat([df1, df2], axis=0)\n",
        "df3.head()"
      ]
    },
    {
      "cell_type": "code",
      "execution_count": null,
      "metadata": {
        "id": "n07_W3rEzN5s"
      },
      "outputs": [],
      "source": [
        "df3.shape"
      ]
    },
    {
      "cell_type": "markdown",
      "source": [
        "We have a total of 14 883 movies and tv shows"
      ],
      "metadata": {
        "id": "ncPm4kzUKbDl"
      }
    },
    {
      "cell_type": "markdown",
      "source": [
        "Using web scraping, we retrieved a missing column from both datasets: the genre of the movie or series. This information was then added to the previously concatenated DataFrame, as it will be useful for future analyses."
      ],
      "metadata": {
        "id": "jD-D8SPMLSkS"
      }
    },
    {
      "cell_type": "code",
      "execution_count": null,
      "metadata": {
        "id": "Pk4QqAZR1_RW"
      },
      "outputs": [],
      "source": [
        "import requests\n",
        "from tqdm import tqdm\n",
        "\n",
        "tqdm.pandas()\n",
        "\n",
        "API_KEY = \"f0e52ba803b4b1cc7e190ec4c432c706\"\n",
        "\n",
        "mapping = requests.get(\n",
        "    f\"https://api.themoviedb.org/3/genre/movie/list?api_key={API_KEY}&language=en-US\"\n",
        ").json()['genres']\n",
        "id2name = {g['id']: g['name'] for g in mapping}\n",
        "\n",
        "def fetch_tmdb_genres(title):\n",
        "    res = requests.get(\n",
        "        f\"https://api.themoviedb.org/3/search/movie?api_key={API_KEY}&query={title}\"\n",
        "    ).json()\n",
        "    results = res.get('results') or []\n",
        "    if results:\n",
        "        genre_ids = results[0].get('genre_ids', [])\n",
        "        return [id2name[gid] for gid in genre_ids if gid in id2name]\n",
        "    return []\n",
        "\n",
        "df3['GenresList'] = df3['Title'].progress_apply(fetch_tmdb_genres)"
      ]
    },
    {
      "cell_type": "code",
      "source": [
        "df3 = pd.read_csv(\"/content/drive/MyDrive/GENAI/Week3/Hackathon/df3.csv\")"
      ],
      "metadata": {
        "id": "KshrwQoRPY7T"
      },
      "execution_count": null,
      "outputs": []
    },
    {
      "cell_type": "code",
      "execution_count": null,
      "metadata": {
        "id": "66pmkLwSBNqg"
      },
      "outputs": [],
      "source": [
        "df3.rename(columns={\"GenresList\" : \"Genre\"}, inplace=True)"
      ]
    },
    {
      "cell_type": "code",
      "execution_count": null,
      "metadata": {
        "id": "DryQim9X4f3e"
      },
      "outputs": [],
      "source": [
        "df3.head()"
      ]
    },
    {
      "cell_type": "code",
      "execution_count": null,
      "metadata": {
        "id": "NZxs0GKrBs8v"
      },
      "outputs": [],
      "source": [
        "df3.shape"
      ]
    },
    {
      "cell_type": "code",
      "execution_count": null,
      "metadata": {
        "id": "CWelFPjYCY2N"
      },
      "outputs": [],
      "source": [
        "df3.to_csv(\"/content/drive/MyDrive/GENAI/Week3/Hackathon/df3.csv\")"
      ]
    },
    {
      "cell_type": "code",
      "execution_count": null,
      "metadata": {
        "id": "Lvp5PrwwTvA1"
      },
      "outputs": [],
      "source": [
        "df = pd.read_csv(\"/content/drive/MyDrive/GENAI/Week3/Hackathon/df3.csv\")"
      ]
    },
    {
      "cell_type": "code",
      "execution_count": null,
      "metadata": {
        "id": "vm2pFzbUDaMQ"
      },
      "outputs": [],
      "source": [
        "df.info()"
      ]
    },
    {
      "cell_type": "code",
      "execution_count": null,
      "metadata": {
        "id": "cqr5x8BdFO8j"
      },
      "outputs": [],
      "source": [
        "df.describe()"
      ]
    },
    {
      "cell_type": "code",
      "execution_count": null,
      "metadata": {
        "id": "Na3ehYddFS_I"
      },
      "outputs": [],
      "source": [
        "df.isna().mean() * 100"
      ]
    },
    {
      "cell_type": "markdown",
      "metadata": {
        "id": "qeDcSb6XTZcs"
      },
      "source": [
        "# **Étape 2 : Nettoyage et Préparation des Données**"
      ]
    },
    {
      "cell_type": "markdown",
      "source": [
        "We converted the 'genre' column, which was initially of type object, into a proper list format."
      ],
      "metadata": {
        "id": "MA_I8PstLzsc"
      }
    },
    {
      "cell_type": "code",
      "execution_count": null,
      "metadata": {
        "id": "QfeMGc_rkm7y"
      },
      "outputs": [],
      "source": [
        "import ast\n",
        "\n",
        "df[\"Genre\"] = df[\"Genre\"].apply(lambda x: ast.literal_eval(x))\n",
        "df.head()"
      ]
    },
    {
      "cell_type": "code",
      "execution_count": null,
      "metadata": {
        "id": "_hlPIQuIi78G"
      },
      "outputs": [],
      "source": [
        "df = df[df[\"Genre\"].apply(lambda x : len(x) > 0)]"
      ]
    },
    {
      "cell_type": "code",
      "execution_count": null,
      "metadata": {
        "id": "qJOdSn-XjXB5"
      },
      "outputs": [],
      "source": [
        "df.shape"
      ]
    },
    {
      "cell_type": "markdown",
      "source": [
        "We removed the rows where the genre was not specified, resulting in a final dataset of 11,693 movies."
      ],
      "metadata": {
        "id": "5rYLh50fMSBx"
      }
    },
    {
      "cell_type": "code",
      "execution_count": null,
      "metadata": {
        "id": "eFPUl4mejkM1"
      },
      "outputs": [],
      "source": [
        "df.head()"
      ]
    },
    {
      "cell_type": "code",
      "execution_count": null,
      "metadata": {
        "id": "JcpqcJcEQlHo"
      },
      "outputs": [],
      "source": [
        "df.drop(columns=['Age', \"ID\", \"Unnamed: 0\"], inplace=True)"
      ]
    },
    {
      "cell_type": "code",
      "execution_count": null,
      "metadata": {
        "id": "_yuJcB1-Qvya"
      },
      "outputs": [],
      "source": [
        "df = df[df['Rotten Tomatoes'].notna()]"
      ]
    },
    {
      "cell_type": "markdown",
      "source": [
        "We removed columns that contained no useful information for our analysis, as well as any remaining null values."
      ],
      "metadata": {
        "id": "h-GA7YM-Mms3"
      }
    },
    {
      "cell_type": "code",
      "execution_count": null,
      "metadata": {
        "id": "vQSbqNr4Rsnb"
      },
      "outputs": [],
      "source": [
        "df[\"grades\"] = df[\"Rotten Tomatoes\"].str.replace(\"/100\", \"\").astype(float)"
      ]
    },
    {
      "cell_type": "code",
      "execution_count": null,
      "metadata": {
        "id": "Fjq1_yz9SSfy"
      },
      "outputs": [],
      "source": [
        "df[\"grades\"] = df[\"grades\"] / 100\n",
        "df.drop(columns=['Rotten Tomatoes'], inplace=True)"
      ]
    },
    {
      "cell_type": "code",
      "execution_count": null,
      "metadata": {
        "id": "APxpSQl2SG6s"
      },
      "outputs": [],
      "source": [
        "df.head()"
      ]
    },
    {
      "cell_type": "markdown",
      "source": [
        "We normalized the Rotten Tomatoes scores to make them suitable for analysis."
      ],
      "metadata": {
        "id": "tkTbASorM2bC"
      }
    },
    {
      "cell_type": "code",
      "execution_count": null,
      "metadata": {
        "id": "W7gRxJEVgu5g"
      },
      "outputs": [],
      "source": [
        "df_normalized = df.copy()"
      ]
    },
    {
      "cell_type": "markdown",
      "source": [
        "We applied label encoding to the textual data and one-hot encoding to the movie genres in order to use a confusion matrix and identify dependencies between features."
      ],
      "metadata": {
        "id": "xcUynxFBNPzv"
      }
    },
    {
      "cell_type": "code",
      "execution_count": null,
      "metadata": {
        "id": "xAYXlyujVukK"
      },
      "outputs": [],
      "source": [
        "from sklearn.preprocessing import MultiLabelBinarizer\n",
        "mlb = MultiLabelBinarizer()\n",
        "genre_dummies = pd.DataFrame(mlb.fit_transform(df_normalized['Genre']), columns=mlb.classes_, index=df_normalized.index)\n",
        "df_normalized = pd.concat([df_normalized, genre_dummies], axis=1)\n",
        "df_normalized.drop(columns=['Genre'], inplace=True)\n",
        "df_normalized"
      ]
    },
    {
      "cell_type": "code",
      "execution_count": null,
      "metadata": {
        "id": "CWcFeRqzShmY"
      },
      "outputs": [],
      "source": [
        "from sklearn.preprocessing import LabelEncoder\n",
        "le = LabelEncoder()\n",
        "df_normalized[\"Type\"] = le.fit_transform(df_normalized[\"Type\"])\n",
        "df_normalized[\"Title\"] = le.fit_transform(df_normalized[\"Title\"])\n",
        "df_normalized.head()"
      ]
    },
    {
      "cell_type": "code",
      "execution_count": null,
      "metadata": {
        "id": "fRVsXoUuFzoV"
      },
      "outputs": [],
      "source": [
        "plt.figure(figsize=(15, 10))\n",
        "corr = df_normalized.corr()\n",
        "sns.heatmap(corr, annot=True, fmt=\".2f\", cmap=\"coolwarm\")\n",
        "plt.title(\"Correlation Matrix\")\n",
        "plt.show()"
      ]
    },
    {
      "cell_type": "markdown",
      "source": [
        "The correlation matrix shows weak linear relationships overall. Some related genres like Adventure, Fantasy, and Animation are moderately correlated, and family movies tend to have higher ratings. Platform availability is mostly exclusive, with a slight negative correlation between Netflix and Prime Video. These insights suggest limited linear dependencies."
      ],
      "metadata": {
        "id": "mwvodyq9NteT"
      }
    },
    {
      "cell_type": "markdown",
      "metadata": {
        "id": "BXV6f3tReVvb"
      },
      "source": [
        "# **Étape 3 : Analysis**"
      ]
    },
    {
      "cell_type": "markdown",
      "metadata": {
        "id": "3h9CcWLKfKyl"
      },
      "source": [
        "## **What are the most common genres for top-rated shows and movies across platforms?**"
      ]
    },
    {
      "cell_type": "code",
      "execution_count": null,
      "metadata": {
        "id": "yPqT14yIeVPD"
      },
      "outputs": [],
      "source": [
        "df.head()"
      ]
    },
    {
      "cell_type": "code",
      "execution_count": null,
      "metadata": {
        "id": "3MSNrxD-gW5K"
      },
      "outputs": [],
      "source": [
        "df.to_csv(\"df.csv\")"
      ]
    },
    {
      "cell_type": "code",
      "execution_count": null,
      "metadata": {
        "id": "F1OepILPhl2w"
      },
      "outputs": [],
      "source": [
        "df = pd.read_csv(\"df.csv\")"
      ]
    },
    {
      "cell_type": "code",
      "execution_count": null,
      "metadata": {
        "id": "lrw4qABruyQa"
      },
      "outputs": [],
      "source": [
        "df.drop(columns=['Unnamed: 0'], inplace=True)"
      ]
    },
    {
      "cell_type": "code",
      "execution_count": null,
      "metadata": {
        "id": "XAhelIDziOr6"
      },
      "outputs": [],
      "source": [
        "import ast\n",
        "\n",
        "df['Genre'] = df['Genre'].apply(lambda x: ast.literal_eval(x))\n",
        "\n",
        "all_genres = df.explode('Genre')"
      ]
    },
    {
      "cell_type": "code",
      "execution_count": null,
      "metadata": {
        "id": "kMkZODKgoZc-"
      },
      "outputs": [],
      "source": [
        "all_genres.head()"
      ]
    },
    {
      "cell_type": "code",
      "execution_count": null,
      "metadata": {
        "id": "FVESwuxJocK6"
      },
      "outputs": [],
      "source": [
        "all_genres[\"Genre\"].nunique()"
      ]
    },
    {
      "cell_type": "code",
      "execution_count": null,
      "metadata": {
        "id": "nzXCPPfRnW17"
      },
      "outputs": [],
      "source": [
        "import ipywidgets as widgets\n",
        "\n",
        "rating_slider = widgets.FloatSlider(\n",
        "    value = 0.8,\n",
        "    min = 0.0,\n",
        "    max = 1.0,\n",
        "    step = 0.05,\n",
        "    description = 'Minimum Rating:',\n",
        "    disabled = False,\n",
        "    continuous_update = False,\n",
        "    orientation = 'horizontal',\n",
        "    readout = True,\n",
        ")\n",
        "\n",
        "number_genres = widgets.IntSlider(\n",
        "    value = 10,\n",
        "    min = 1,\n",
        "    max = 19,\n",
        "    step = 1,\n",
        "    description = 'Number of Genres:',\n",
        "    disabled = False,\n",
        "    continuous_update = False,\n",
        ")\n",
        "\n",
        "def plot_genre_distribution(min_rating, num_genres):\n",
        "\n",
        "  df_filtered = all_genres[all_genres['grades'] >= min_rating]\n",
        "  grouped_df = df_filtered['Genre'].value_counts().sort_values(ascending=False).head(num_genres)\n",
        "  plt.figure(figsize=(14, 7))\n",
        "  sns.barplot(x=grouped_df.index, y=grouped_df.values)\n",
        "  plt.xlabel(\"Nombre de titres\")\n",
        "  plt.title(f\"{num_genres} genres les plus fréquents (note ≥ {min_rating})\")\n",
        "  plt.show()\n",
        "\n",
        "widgets.interactive(plot_genre_distribution, min_rating=rating_slider, num_genres=number_genres)"
      ]
    },
    {
      "cell_type": "markdown",
      "source": [
        "The bar chart and data reveal that among top-rated content (rating ≥ 0.8), the most common genres across platforms are:\n",
        "\n",
        "Drama (208 titles)\n",
        "\n",
        "Comedy (137 titles)\n",
        "\n",
        "Adventure (109 titles)\n",
        "\n",
        "Action (106 titles)\n",
        "\n",
        "These genres dominate the top-rated segment, suggesting they are consistently well-received by audiences. Drama, in particular, stands out as the leading genre among highly rated shows and movies"
      ],
      "metadata": {
        "id": "FwvPte3YN5lS"
      }
    },
    {
      "cell_type": "markdown",
      "metadata": {
        "id": "MVrR2x27uO8m"
      },
      "source": [
        "## **How do the release years of shows and movies relate to their average ratings?**"
      ]
    },
    {
      "cell_type": "code",
      "execution_count": null,
      "metadata": {
        "id": "SAoxWZT3uUoa"
      },
      "outputs": [],
      "source": [
        "df.head()"
      ]
    },
    {
      "cell_type": "code",
      "execution_count": null,
      "metadata": {
        "id": "L3ixMfPIukf-"
      },
      "outputs": [],
      "source": [
        "df_grouped = df.groupby('Year')['grades'].mean()\n",
        "df_grouped.head()"
      ]
    },
    {
      "cell_type": "code",
      "execution_count": null,
      "metadata": {
        "id": "xRVB3hubvczb"
      },
      "outputs": [],
      "source": [
        "plt.figure(figsize=(14, 7))\n",
        "plt.plot(df_grouped.index, df_grouped.values, marker = 'o')\n",
        "plt.xlabel(\"Année\")\n",
        "plt.ylabel(\"Note moyenne\")\n",
        "plt.title(\"Évolution de la note moyenne par année\")\n",
        "plt.grid(True)\n",
        "plt.show()"
      ]
    },
    {
      "cell_type": "code",
      "execution_count": null,
      "metadata": {
        "id": "P9_RPw2hvohq"
      },
      "outputs": [],
      "source": [
        "df[(df[\"Year\"]>=1920) & (df[\"Year\"]<=1925)]"
      ]
    },
    {
      "cell_type": "code",
      "execution_count": null,
      "metadata": {
        "id": "N2iYIceixgKQ"
      },
      "outputs": [],
      "source": [
        "df[(df[\"Year\"]<2010) & (df[\"Type\"] == \"Movies\")][\"grades\"].mean()"
      ]
    },
    {
      "cell_type": "code",
      "execution_count": null,
      "metadata": {
        "id": "OTdip77vx8wa"
      },
      "outputs": [],
      "source": [
        "df[(df[\"Year\"]<2010) & (df[\"Type\"] == \"TV Shows\")][\"grades\"].mean()"
      ]
    },
    {
      "cell_type": "code",
      "execution_count": null,
      "metadata": {
        "id": "iJAGM9iJx4zz"
      },
      "outputs": [],
      "source": [
        "df[(df[\"Year\"]>=2010) & (df[\"Type\"] == \"Movies\")][\"grades\"].mean()"
      ]
    },
    {
      "cell_type": "code",
      "execution_count": null,
      "metadata": {
        "id": "7VNRDj28x8Uw"
      },
      "outputs": [],
      "source": [
        "df[(df[\"Year\"]>=2010) & (df[\"Type\"] == \"TV Shows\")][\"grades\"].mean()"
      ]
    },
    {
      "cell_type": "code",
      "execution_count": null,
      "metadata": {
        "id": "FHKvubGP5irf"
      },
      "outputs": [],
      "source": [
        "df_decade = df.copy()"
      ]
    },
    {
      "cell_type": "code",
      "execution_count": null,
      "metadata": {
        "id": "yYc4IAVZ5oUq"
      },
      "outputs": [],
      "source": [
        "df_decade[\"decade\"] = df_decade[\"Year\"].apply(lambda x: (x // 10) * 10)"
      ]
    },
    {
      "cell_type": "code",
      "execution_count": null,
      "metadata": {
        "id": "U-GYdz9n5Dlh"
      },
      "outputs": [],
      "source": [
        "from scipy.stats import f_oneway\n",
        "\n",
        "groups = [group[\"grades\"] for _, group in df_decade.groupby(\"decade\")]\n",
        "f_statistic, p_value = f_oneway(*groups)\n",
        "\n",
        "if p_value < 0.05:\n",
        "    print(\"There is a significant difference in average ratings between decades.\")\n",
        "else:\n",
        "    print(\"There is no significant difference in average ratings between decades.\")"
      ]
    },
    {
      "cell_type": "markdown",
      "metadata": {
        "id": "sPGhj3vkwkxr"
      },
      "source": [
        "The years between 1950 and 2000 show a stable trend in average ratings, often around 0.55 to 0.60.\n",
        "\n",
        "The early years of cinema (before 1940) display more variable averages, likely due to a limited number of titles.\n",
        "\n",
        "Since the 2010s, there has been a slight decline in average ratings, driven by lower scores for both films and series. This may reflect stricter critical standards or a drop in content quality."
      ]
    },
    {
      "cell_type": "markdown",
      "metadata": {
        "id": "_voSRgSDy2rO"
      },
      "source": [
        "## **How does the availability of movies and shows differ across platforms like Netflix, Hulu, and Disney+?**"
      ]
    },
    {
      "cell_type": "code",
      "execution_count": null,
      "metadata": {
        "id": "XdlkZB75zILd"
      },
      "outputs": [],
      "source": [
        "value = {\n",
        "  \"netflix\" : df[\"Netflix\"].sum(),\n",
        "  \"hulu\" : df[\"Hulu\"].sum(),\n",
        "  \"disney\" : df[\"Disney+\"].sum(),\n",
        "  \"Prime video\" : df[\"Prime Video\"].sum()\n",
        "}"
      ]
    },
    {
      "cell_type": "code",
      "execution_count": null,
      "metadata": {
        "id": "gsnbAnD5z-rS"
      },
      "outputs": [],
      "source": [
        "value = pd.Series(value)\n",
        "\n",
        "plt.figure(figsize=(8, 6))\n",
        "value.sort_values().plot(kind='barh')\n",
        "plt.title(\"Number of Movies Available by Platform\")\n",
        "plt.xlabel(\"Number of Movies\")\n",
        "plt.tight_layout()\n",
        "plt.show()"
      ]
    },
    {
      "cell_type": "markdown",
      "metadata": {
        "id": "z5QVER6rCFwJ"
      },
      "source": [
        "Netflix clearly leads in terms of the number of available titles.\n",
        "It is followed by Prime Video and then Hulu.\n",
        "Disney+ comes last, likely due to its more focused and franchise-driven catalog."
      ]
    }
  ],
  "metadata": {
    "colab": {
      "provenance": []
    },
    "kernelspec": {
      "display_name": "Python 3",
      "name": "python3"
    },
    "language_info": {
      "name": "python"
    }
  },
  "nbformat": 4,
  "nbformat_minor": 0
}